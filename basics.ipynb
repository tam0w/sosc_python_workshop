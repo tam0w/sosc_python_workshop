{
 "cells": [
  {
   "cell_type": "markdown",
   "source": [
    "# Welcome!\n",
    "\n",
    "This is a 3 day python workshop hosted by Sahyadri Open Source Community for the incoming 2nd year students."
   ],
   "metadata": {
    "collapsed": false
   },
   "id": "ae0e1a80b5cfc29d"
  },
  {
   "cell_type": "markdown",
   "source": [
    "### Preparing for this module:\n",
    "\n",
    "Have a basic Python installation that works. Also setup an IDE."
   ],
   "metadata": {
    "collapsed": false
   },
   "id": "6ab07a8df1d7d09c"
  },
  {
   "cell_type": "markdown",
   "source": [
    "# Module 1: Overview\n",
    "This tutorial covers several topics that are important to the beginning Python user, especially if you are coming from using another programming language.\n",
    "\n",
    "- Printing\n",
    "- Creating variables\n",
    "- Types of variables\n",
    "- Keywords\n",
    "- Calculations with variables\n",
    "- Built-in constants and mathematical functions"
   ],
   "metadata": {
    "collapsed": false
   },
   "id": "de0610fcb8af2f12"
  },
  {
   "cell_type": "markdown",
   "source": [
    "### Printing\n",
    "\n",
    "The print(...) function sends output to the screen. It is useful for debugging."
   ],
   "metadata": {
    "collapsed": false
   },
   "id": "3472c0bf7f83955d"
  },
  {
   "cell_type": "code",
   "execution_count": 2,
   "outputs": [
    {
     "name": "stdout",
     "output_type": "stream",
     "text": [
      "Hello world!\n"
     ]
    }
   ],
   "source": [
    "print('Hello world!')"
   ],
   "metadata": {
    "collapsed": false,
    "ExecuteTime": {
     "end_time": "2023-11-23T01:39:38.405323800Z",
     "start_time": "2023-11-23T01:39:38.398564600Z"
    }
   },
   "id": "879cfc4804f3273a"
  },
  {
   "cell_type": "code",
   "execution_count": null,
   "outputs": [],
   "source": [],
   "metadata": {
    "collapsed": false
   },
   "id": "b136b3a5c8067fde"
  }
 ],
 "metadata": {
  "kernelspec": {
   "display_name": "Python 3",
   "language": "python",
   "name": "python3"
  },
  "language_info": {
   "codemirror_mode": {
    "name": "ipython",
    "version": 2
   },
   "file_extension": ".py",
   "mimetype": "text/x-python",
   "name": "python",
   "nbconvert_exporter": "python",
   "pygments_lexer": "ipython2",
   "version": "2.7.6"
  }
 },
 "nbformat": 4,
 "nbformat_minor": 5
}
