{
 "cells": [
  {
   "cell_type": "markdown",
   "source": [
    "# 1. Overview 2\n",
    "We will be covering:\n",
    "\n",
    "- Mathematical Operations in Python\n",
    "- Modules and Packages\n",
    "- Functions\n",
    "- String Operations\n",
    "- File Manipulation"
   ],
   "metadata": {
    "collapsed": false
   },
   "id": "8a28a9d2c43f9a63"
  },
  {
   "cell_type": "markdown",
   "source": [
    "### Math in python:\n",
    "  \n",
    "Common operators are:\n",
    "\n",
    "| Operation      | Symbol |\n",
    "    |----------------|--------|\n",
    "    | Addition       | +      |\n",
    "    | Subtraction    | -      |\n",
    "    | Multiplication | *      |\n",
    "    | Division       | /      |\n",
    "    | Power of       | **     |\n",
    "    | Modulo         | %      |"
   ],
   "metadata": {
    "collapsed": false
   },
   "id": "d974ab4d6ad0cf44"
  },
  {
   "cell_type": "code",
   "execution_count": 4,
   "outputs": [
    {
     "name": "stdout",
     "output_type": "stream",
     "text": [
      "9\n"
     ]
    }
   ],
   "source": [
    "print(5+4)"
   ],
   "metadata": {
    "collapsed": false,
    "ExecuteTime": {
     "end_time": "2023-11-23T02:44:49.748035400Z",
     "start_time": "2023-11-23T02:44:49.740053800Z"
    }
   },
   "id": "33cee11c7b0766ba"
  },
  {
   "cell_type": "code",
   "execution_count": 5,
   "outputs": [
    {
     "name": "stdout",
     "output_type": "stream",
     "text": [
      "1\n"
     ]
    }
   ],
   "source": [
    "print(5%2)"
   ],
   "metadata": {
    "collapsed": false,
    "ExecuteTime": {
     "end_time": "2023-11-23T02:44:50.547558600Z",
     "start_time": "2023-11-23T02:44:50.535245300Z"
    }
   },
   "id": "bdf2fb73e2beec85"
  },
  {
   "cell_type": "markdown",
   "source": [
    "#### The order of operations python follows is PEMDAS:\n",
    "\n",
    "- Parentheses (round brackets)\n",
    "- Exponentiation or powers, left to right\n",
    "- Multiplication and Division, left to right\n",
    "- Addition and Subtraction, left to right\n",
    "\n"
   ],
   "metadata": {
    "collapsed": false
   },
   "id": "479155e176754b3d"
  },
  {
   "cell_type": "markdown",
   "source": [
    "### Importing modules and packages\n",
    "\n",
    "Module: Think of a module like a toolbox. It's a file containing Python code, and inside that file, you might have functions, variables, or classes.\n",
    "\n",
    "Package: Now, imagine you have a big project with many toolboxes. You might want to organize your toolboxes into a toolkit bag. That toolkit bag is like a package in Python."
   ],
   "metadata": {
    "collapsed": false
   },
   "id": "e63edc4dbcad866b"
  },
  {
   "cell_type": "code",
   "execution_count": 7,
   "outputs": [
    {
     "ename": "ModuleNotFoundError",
     "evalue": "No module named 'screwdriver'",
     "output_type": "error",
     "traceback": [
      "\u001B[1;31m---------------------------------------------------------------------------\u001B[0m",
      "\u001B[1;31mModuleNotFoundError\u001B[0m                       Traceback (most recent call last)",
      "Cell \u001B[1;32mIn[7], line 1\u001B[0m\n\u001B[1;32m----> 1\u001B[0m \u001B[38;5;28;01mimport\u001B[39;00m \u001B[38;5;21;01mscrewdriver\u001B[39;00m\n\u001B[0;32m      3\u001B[0m screwdriver\u001B[38;5;241m.\u001B[39mscrew()\n",
      "\u001B[1;31mModuleNotFoundError\u001B[0m: No module named 'screwdriver'"
     ]
    }
   ],
   "source": [
    "import screwdriver\n",
    "\n",
    "screwdriver.screw()"
   ],
   "metadata": {
    "collapsed": false,
    "ExecuteTime": {
     "end_time": "2023-11-23T02:48:04.699102200Z",
     "start_time": "2023-11-23T02:48:04.477694200Z"
    }
   },
   "id": "2d76b02f93e2954f"
  },
  {
   "cell_type": "code",
   "execution_count": 6,
   "outputs": [
    {
     "ename": "SyntaxError",
     "evalue": "invalid syntax (2956549456.py, line 1)",
     "output_type": "error",
     "traceback": [
      "\u001B[1;36m  Cell \u001B[1;32mIn[6], line 1\u001B[1;36m\u001B[0m\n\u001B[1;33m    from big_toolkit.toolbox1 import hammer()\u001B[0m\n\u001B[1;37m                                           ^\u001B[0m\n\u001B[1;31mSyntaxError\u001B[0m\u001B[1;31m:\u001B[0m invalid syntax\n"
     ]
    }
   ],
   "source": [
    "from big_toolkit.toolbox1 import hammer()\n",
    "\n",
    "print(hammer.weight)"
   ],
   "metadata": {
    "collapsed": false,
    "ExecuteTime": {
     "end_time": "2023-11-23T02:48:02.626970Z",
     "start_time": "2023-11-23T02:48:02.616537900Z"
    }
   },
   "id": "a33bfb8823b32abd"
  },
  {
   "cell_type": "code",
   "execution_count": null,
   "outputs": [],
   "source": [
    "import math\n",
    "\n",
    "print(math.pi)\n",
    "radius = input('What is the radius of the circle?')\n",
    "print(radius)\n",
    "area_of_circle = math.pi * radius ** 2\n",
    "print('The area of the circle is', area_of_circle)"
   ],
   "metadata": {
    "collapsed": false
   },
   "id": "6565fa2b462e412a"
  },
  {
   "cell_type": "code",
   "execution_count": null,
   "outputs": [],
   "source": [],
   "metadata": {
    "collapsed": false
   },
   "id": "cfde38370b7c6f78"
  }
 ],
 "metadata": {
  "kernelspec": {
   "display_name": "Python 3",
   "language": "python",
   "name": "python3"
  },
  "language_info": {
   "codemirror_mode": {
    "name": "ipython",
    "version": 2
   },
   "file_extension": ".py",
   "mimetype": "text/x-python",
   "name": "python",
   "nbconvert_exporter": "python",
   "pygments_lexer": "ipython2",
   "version": "2.7.6"
  }
 },
 "nbformat": 4,
 "nbformat_minor": 5
}
