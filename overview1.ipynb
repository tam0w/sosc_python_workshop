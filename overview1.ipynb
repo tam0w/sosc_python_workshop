{
 "cells": [
  {
   "cell_type": "markdown",
   "source": [
    "# Welcome!\n",
    "\n",
    "This is a 3 day python workshop hosted by Sahyadri Open Source Community for the incoming 2nd year students."
   ],
   "metadata": {
    "collapsed": false
   },
   "id": "ae0e1a80b5cfc29d"
  },
  {
   "cell_type": "markdown",
   "source": [
    "### Preparing for this module:\n",
    "\n",
    "Have a basic Python installation that works. Also setup an IDE."
   ],
   "metadata": {
    "collapsed": false
   },
   "id": "6ab07a8df1d7d09c"
  },
  {
   "cell_type": "markdown",
   "source": [
    "# 1. Overview\n",
    "This tutorial covers several topics that are important to the beginning Python user, especially if you are coming from using another programming language.\n",
    "\n",
    "- Printing\n",
    "- Creating variables\n",
    "- Types of variables\n",
    "- Keywords\n",
    "- Object Oriented Programming\n",
    "- Calculations with variables"
   ],
   "metadata": {
    "collapsed": false
   },
   "id": "de0610fcb8af2f12"
  },
  {
   "cell_type": "markdown",
   "source": [
    "### Printing\n",
    "\n",
    "The print(...) function sends output to the screen. It is useful for debugging, and for talking..."
   ],
   "metadata": {
    "collapsed": false
   },
   "id": "3472c0bf7f83955d"
  },
  {
   "cell_type": "code",
   "execution_count": 68,
   "outputs": [
    {
     "name": "stdout",
     "output_type": "stream",
     "text": [
      "Hello world!\n"
     ]
    }
   ],
   "source": [
    "print('Hello world!')"
   ],
   "metadata": {
    "collapsed": false,
    "ExecuteTime": {
     "end_time": "2023-11-23T02:28:33.529911Z",
     "start_time": "2023-11-23T02:28:33.407220400Z"
    }
   },
   "id": "879cfc4804f3273a"
  },
  {
   "cell_type": "code",
   "execution_count": 69,
   "outputs": [
    {
     "name": "stdout",
     "output_type": "stream",
     "text": [
      "Hi!\n"
     ]
    }
   ],
   "source": [
    "print(\"Hi!\")"
   ],
   "metadata": {
    "collapsed": false,
    "ExecuteTime": {
     "end_time": "2023-11-23T02:28:33.544941100Z",
     "start_time": "2023-11-23T02:28:33.410560Z"
    }
   },
   "id": "b136b3a5c8067fde"
  },
  {
   "cell_type": "code",
   "execution_count": 70,
   "outputs": [
    {
     "ename": "SyntaxError",
     "evalue": "unterminated string literal (detected at line 1) (2418910567.py, line 1)",
     "output_type": "error",
     "traceback": [
      "\u001B[1;36m  Cell \u001B[1;32mIn[70], line 1\u001B[1;36m\u001B[0m\n\u001B[1;33m    print(\"So I kinda wanna type...\u001B[0m\n\u001B[1;37m          ^\u001B[0m\n\u001B[1;31mSyntaxError\u001B[0m\u001B[1;31m:\u001B[0m unterminated string literal (detected at line 1)\n"
     ]
    }
   ],
   "source": [
    "print(\"So I kinda wanna type...\n",
    "      in multiple lines\")"
   ],
   "metadata": {
    "collapsed": false,
    "ExecuteTime": {
     "end_time": "2023-11-23T02:28:33.544941100Z",
     "start_time": "2023-11-23T02:28:33.418819800Z"
    }
   },
   "id": "a6112272abde3ff7"
  },
  {
   "cell_type": "code",
   "execution_count": null,
   "outputs": [],
   "source": [
    "print(\"line1,\\nline2,\\nline3,\\n\\tline4 with a little bit of space\")"
   ],
   "metadata": {
    "collapsed": false,
    "ExecuteTime": {
     "start_time": "2023-11-23T02:28:33.426999300Z"
    }
   },
   "id": "96dc4f85dd6a01c5"
  },
  {
   "cell_type": "markdown",
   "source": [
    "### Creating variables\n",
    "\n",
    "A variable in Python is like a box with a name. You can put things (like numbers or words) into the box, and then you can use the name of the box to get those things back out or do stuff with them. "
   ],
   "metadata": {
    "collapsed": false
   },
   "id": "e3a11a1ffebc012c"
  },
  {
   "cell_type": "code",
   "execution_count": null,
   "outputs": [],
   "source": [
    "my_integer = 3.1428571\n",
    "__my_float__ = 3.1428571  # variables like this have a special use in Python\n",
    "x = y = z = 1\n",
    "a, b, c = 1, 2, 3\n",
    "NA = 'not applicable' # for R users"
   ],
   "metadata": {
    "collapsed": false,
    "ExecuteTime": {
     "start_time": "2023-11-23T02:28:33.428994400Z"
    }
   },
   "id": "1b890a6d5f32a3d0"
  },
  {
   "cell_type": "markdown",
   "source": [
    "### Variable-naming conventions:\n",
    "\n",
    "**DO NOT** use these in variable names:\n",
    "\n",
    "-- Names with special characters or space (@, $, ; etc EXCEPT UNDERSCORES)\n",
    "\n",
    "-- Starting with a number\n",
    "\n",
    "-- Keywords (Examples of keywords include if, else, for, while, True, False, etc.)\n",
    "\n"
   ],
   "metadata": {
    "collapsed": false
   },
   "id": "106084c81569f413"
  },
  {
   "cell_type": "code",
   "execution_count": 71,
   "outputs": [
    {
     "ename": "SyntaxError",
     "evalue": "invalid syntax (3406447347.py, line 1)",
     "output_type": "error",
     "traceback": [
      "\u001B[1;36m  Cell \u001B[1;32mIn[71], line 1\u001B[1;36m\u001B[0m\n\u001B[1;33m    pay day = 'Thursday'\u001B[0m\n\u001B[1;37m        ^\u001B[0m\n\u001B[1;31mSyntaxError\u001B[0m\u001B[1;31m:\u001B[0m invalid syntax\n"
     ]
    }
   ],
   "source": [
    "pay day = 'Thursday'"
   ],
   "metadata": {
    "collapsed": false,
    "ExecuteTime": {
     "start_time": "2023-11-23T02:28:33.431986900Z"
    }
   },
   "id": "42d0e4714f78d5c8"
  },
  {
   "cell_type": "code",
   "execution_count": null,
   "outputs": [],
   "source": [
    "my-variable = 1"
   ],
   "metadata": {
    "collapsed": false,
    "ExecuteTime": {
     "start_time": "2023-11-23T02:28:33.437745400Z"
    }
   },
   "id": "a314d885c3ad2c9b"
  },
  {
   "cell_type": "code",
   "execution_count": null,
   "outputs": [],
   "source": [
    "€value = 42.95  \n",
    "cost_in_€ = 42.95"
   ],
   "metadata": {
    "collapsed": false,
    "ExecuteTime": {
     "start_time": "2023-11-23T02:28:33.438741900Z"
    }
   },
   "id": "81d9a334ce43ee19"
  },
  {
   "cell_type": "code",
   "execution_count": null,
   "outputs": [],
   "source": [
    "@variable = test"
   ],
   "metadata": {
    "collapsed": false,
    "ExecuteTime": {
     "start_time": "2023-11-23T02:28:33.440737500Z"
    }
   },
   "id": "49ca2849ea3a9cf0"
  },
  {
   "cell_type": "code",
   "execution_count": null,
   "outputs": [],
   "source": [
    "123variable = 123"
   ],
   "metadata": {
    "collapsed": false,
    "ExecuteTime": {
     "start_time": "2023-11-23T02:28:33.442733100Z"
    }
   },
   "id": "f0dff37c1b2993c7"
  },
  {
   "cell_type": "code",
   "execution_count": null,
   "outputs": [],
   "source": [
    "from = 'my lover'\n",
    "raise = 'your glass'\n",
    "pass = 'you shall not'\n",
    "fail = 'you will not'\n",
    "True = 'not False'"
   ],
   "metadata": {
    "collapsed": false,
    "ExecuteTime": {
     "start_time": "2023-11-23T02:28:33.444727200Z"
    }
   },
   "id": "ae346642c3587ca7"
  },
  {
   "cell_type": "code",
   "execution_count": null,
   "outputs": [],
   "source": [
    "42.95 = cost_in_dollars  "
   ],
   "metadata": {
    "collapsed": false,
    "ExecuteTime": {
     "start_time": "2023-11-23T02:28:33.445724300Z"
    }
   },
   "id": "5299824aa9ec87a0"
  },
  {
   "cell_type": "code",
   "execution_count": null,
   "outputs": [],
   "source": [
    "a = 42            \n",
    "A = 13                # like most languages, Python is also case-sensitive\n",
    "\n",
    "print(\" A:\", A, \"\\n\", \"a:\", a)"
   ],
   "metadata": {
    "collapsed": false,
    "ExecuteTime": {
     "start_time": "2023-11-23T02:28:33.447718700Z"
    }
   },
   "id": "1d7b3f7915e50c7d"
  },
  {
   "cell_type": "markdown",
   "source": [
    "### Variable types:\n",
    "\n",
    "- **Integer Variable:**\n",
    "  - `my_integer` is a variable storing the whole number `42`.\n",
    "\n",
    "- **Floating-point Variable:**\n",
    "  - `my_float` is a variable storing the decimal number `3.14`.\n",
    "\n",
    "- **String Variable:**\n",
    "  - `my_string` is a variable storing the text `\"Hello, Python!\"`.\n",
    "\n",
    "- **Boolean Variable:**\n",
    "  - `my_boolean` is a variable storing the truth value `True` or `False`.\n",
    "\n",
    "- **List Variable:**\n",
    "  - `my_list` is a variable storing a collection of items: `1`, `2`, `\"apple\"`, and `True`.\n",
    "\n",
    "- **Dictionary Variable:**\n",
    "  - `my_dict` is a key-value data type storing a collection of key-value pairs."
   ],
   "metadata": {
    "collapsed": false
   },
   "id": "fea54fc2c261a5aa"
  },
  {
   "cell_type": "code",
   "execution_count": 72,
   "outputs": [
    {
     "name": "stdout",
     "output_type": "stream",
     "text": [
      "Integer Variable:\n",
      "42 <class 'int'>\n",
      "\n",
      "Floating-point Variable:\n",
      "3.14 <class 'float'>\n",
      "\n",
      "String Variable:\n",
      "Hello, Python! <class 'str'>\n",
      "\n",
      "Boolean Variable:\n",
      "True <class 'bool'>\n",
      "\n",
      "List Variable:\n",
      "[1, 2, 'apple', True] <class 'list'>\n",
      "\n",
      "Dictionary Variable:\n",
      "{'Mon': 'Day 1', 'Tuesday': 'Day 2', 'Wednesday': 3, 4: 'Thursday'} <class 'dict'>\n"
     ]
    }
   ],
   "source": [
    "# This is a comment in Python. Comments are not executed and are for human readability.\n",
    "\n",
    "my_integer = 42\n",
    "\n",
    "my_float = 3.14\n",
    "\n",
    "my_string = \"Hello, Python!\"\n",
    "\n",
    "my_boolean = True\n",
    "\n",
    "my_list = [1, 2, \"apple\", True]\n",
    "\n",
    "my_dict = {'Mon' : 'Day 1', 'Tuesday': 'Day 2', 'Wednesday': 3, 4: 'Thursday'}\n",
    "\n",
    "# Now lets print them:\n",
    "print(\"Integer Variable:\")\n",
    "print(my_integer, type(my_integer))\n",
    "\n",
    "print(\"\\nFloating-point Variable:\")\n",
    "print(my_float, type(my_float))\n",
    "\n",
    "print(\"\\nString Variable:\")\n",
    "print(my_string, type(my_string))\n",
    "\n",
    "print(\"\\nBoolean Variable:\")\n",
    "print(my_boolean, type(my_boolean))\n",
    "\n",
    "print(\"\\nList Variable:\")\n",
    "print(my_list, type(my_list))\n",
    "\n",
    "print(\"\\nDictionary Variable:\")\n",
    "print(my_dict, type(my_dict))"
   ],
   "metadata": {
    "collapsed": false,
    "ExecuteTime": {
     "end_time": "2023-11-23T02:28:33.636696100Z",
     "start_time": "2023-11-23T02:28:33.452705500Z"
    }
   },
   "id": "3f8fce5dd88c0438"
  },
  {
   "cell_type": "markdown",
   "source": [
    "### Keywords in python:\n",
    "\n",
    "Keywords in Python are like special words that have specific predefined meanings. Common keywords:\n",
    "\n",
    "- if\n",
    "- else\n",
    "- while\n",
    "- for\n",
    "- def\n",
    "- return\n",
    "- True\n",
    "- False\n",
    "- None\n",
    "- and\n",
    "- or\n",
    "- not\n",
    "- in\n",
    "- import\n",
    "- class"
   ],
   "metadata": {
    "collapsed": false
   },
   "id": "56705938e10106fa"
  },
  {
   "cell_type": "code",
   "execution_count": 73,
   "outputs": [
    {
     "name": "stdout",
     "output_type": "stream",
     "text": [
      "5 is greater.\n"
     ]
    }
   ],
   "source": [
    "if 5 > 2:\n",
    "    print(\"5 is greater.\")\n",
    "else: \n",
    "    print(\"It isnt.\")"
   ],
   "metadata": {
    "collapsed": false,
    "ExecuteTime": {
     "end_time": "2023-11-23T02:28:33.655645200Z",
     "start_time": "2023-11-23T02:28:33.464931Z"
    }
   },
   "id": "241e5d4e784dac30"
  },
  {
   "cell_type": "code",
   "execution_count": 74,
   "outputs": [
    {
     "name": "stdout",
     "output_type": "stream",
     "text": [
      "True\n"
     ]
    }
   ],
   "source": [
    "print(5 > 2)"
   ],
   "metadata": {
    "collapsed": false,
    "ExecuteTime": {
     "end_time": "2023-11-23T02:28:33.680579200Z",
     "start_time": "2023-11-23T02:28:33.468767Z"
    }
   },
   "id": "bf79fd5194a87d92"
  },
  {
   "cell_type": "code",
   "execution_count": 75,
   "outputs": [
    {
     "name": "stdout",
     "output_type": "stream",
     "text": [
      "Count: 1\n",
      "Count: 2\n",
      "Count: 3\n",
      "Count: 4\n",
      "Count: 5\n",
      "Loop finished!\n"
     ]
    }
   ],
   "source": [
    "counter = 1\n",
    "\n",
    "while counter <= 5:\n",
    "    print(\"Count:\", counter)\n",
    "    \n",
    "    counter += 1\n",
    "\n",
    "print(\"Loop finished!\")"
   ],
   "metadata": {
    "collapsed": false,
    "ExecuteTime": {
     "end_time": "2023-11-23T02:28:33.683571500Z",
     "start_time": "2023-11-23T02:28:33.476836300Z"
    }
   },
   "id": "2f5eb7b20fcc2ea1"
  },
  {
   "cell_type": "code",
   "execution_count": 76,
   "outputs": [
    {
     "name": "stdout",
     "output_type": "stream",
     "text": [
      "Either of conditions 1 or 2 are true.\n"
     ]
    }
   ],
   "source": [
    "condition_1 = True\n",
    "\n",
    "condition_2 = False\n",
    "\n",
    "if condition_1 and condition_2:\n",
    "    \n",
    "    print(\"Conditions 1 and 2 are both true.\")\n",
    "\n",
    "elif condition_1 or condition_2:\n",
    "    \n",
    "    print(\"Either of conditions 1 or 2 are true.\")"
   ],
   "metadata": {
    "collapsed": false,
    "ExecuteTime": {
     "end_time": "2023-11-23T02:28:33.684568700Z",
     "start_time": "2023-11-23T02:28:33.483665900Z"
    }
   },
   "id": "76c4b1242acca16"
  },
  {
   "cell_type": "markdown",
   "source": [
    "### Objects and Classes in python\n",
    "\n",
    "There are two programming philosophies:\n",
    "\n",
    "-- Functional\n",
    "-- Object oriented"
   ],
   "metadata": {
    "collapsed": false
   },
   "id": "c40da7a9647fa819"
  },
  {
   "cell_type": "code",
   "execution_count": 77,
   "outputs": [],
   "source": [
    "class Classroom:\n",
    "    classroom_name = \"\"\n",
    "    students = 50\n",
    "    lecturers = 7\n",
    "\n",
    "    def teach(self):\n",
    "        print(\"The time is 8:30, so let's start class.\")\n",
    "        \n",
    "    def class_info(self):\n",
    "        \n",
    "        print(f\"This class is the\", self.classroom_name, \"class.\")\n",
    "        print(f\"This class has\", self.students, \"students.\")\n",
    "        print(f\"This class has\", self.lecturers, \"lecturers.\")"
   ],
   "metadata": {
    "collapsed": false,
    "ExecuteTime": {
     "end_time": "2023-11-23T02:28:33.684568700Z",
     "start_time": "2023-11-23T02:28:33.492689600Z"
    }
   },
   "id": "53127d6a22b66142"
  },
  {
   "cell_type": "code",
   "execution_count": 78,
   "outputs": [],
   "source": [
    "ISE = Classroom()"
   ],
   "metadata": {
    "collapsed": false,
    "ExecuteTime": {
     "end_time": "2023-11-23T02:28:33.685566Z",
     "start_time": "2023-11-23T02:28:33.499965700Z"
    }
   },
   "id": "f7afc6538024ae39"
  },
  {
   "cell_type": "code",
   "execution_count": 79,
   "outputs": [],
   "source": [
    "ISE.classroom_name = ''"
   ],
   "metadata": {
    "collapsed": false,
    "ExecuteTime": {
     "end_time": "2023-11-23T02:28:33.685566Z",
     "start_time": "2023-11-23T02:28:33.505669Z"
    }
   },
   "id": "97517954bcaedbeb"
  },
  {
   "cell_type": "code",
   "execution_count": 80,
   "outputs": [
    {
     "name": "stdout",
     "output_type": "stream",
     "text": [
      "The time is 8:30, so let's start class.\n"
     ]
    }
   ],
   "source": [
    "ISE.teach()"
   ],
   "metadata": {
    "collapsed": false,
    "ExecuteTime": {
     "end_time": "2023-11-23T02:28:33.688558400Z",
     "start_time": "2023-11-23T02:28:33.515366900Z"
    }
   },
   "id": "d497d95acb254e35"
  },
  {
   "cell_type": "code",
   "execution_count": 81,
   "outputs": [
    {
     "name": "stdout",
     "output_type": "stream",
     "text": [
      "This class is the  class.\n",
      "This class has 50 students.\n",
      "This class has 7 lecturers.\n"
     ]
    }
   ],
   "source": [
    "ISE.class_info()"
   ],
   "metadata": {
    "collapsed": false,
    "ExecuteTime": {
     "end_time": "2023-11-23T02:28:33.688558400Z",
     "start_time": "2023-11-23T02:28:33.522158800Z"
    }
   },
   "id": "fe055957dba30ee6"
  },
  {
   "cell_type": "markdown",
   "source": [
    "### Calculations with variables\n",
    "\n",
    "    | Operation      | Symbol |\n",
    "    |----------------|--------|\n",
    "    | Addition       | +      |\n",
    "    | Subtraction    | -      |\n",
    "    | Multiplication | *      |\n",
    "    | Division       | /      |\n",
    "    | Power of       | **     |\n",
    "    | Modulo         | %      |\n",
    "  \n",
    "The order of operation python follows is PEMDAS:\n",
    "\n",
    "- Parentheses (round brackets)\n",
    "- Exponentiation or powers, left to right\n",
    "- Multiplication and Division, left to right\n",
    "- Addition and Subtraction, left to right"
   ],
   "metadata": {
    "collapsed": false
   },
   "id": "fcb3eafba108147e"
  },
  {
   "cell_type": "code",
   "execution_count": 83,
   "outputs": [
    {
     "name": "stdout",
     "output_type": "stream",
     "text": [
      "3.141592653589793\n"
     ]
    }
   ],
   "source": [
    "import math\n",
    "print(math.pi)"
   ],
   "metadata": {
    "collapsed": false,
    "ExecuteTime": {
     "end_time": "2023-11-23T02:35:58.065931100Z",
     "start_time": "2023-11-23T02:35:58.043042300Z"
    }
   },
   "id": "bf159c1f50547404"
  },
  {
   "cell_type": "code",
   "execution_count": 89,
   "outputs": [
    {
     "name": "stdout",
     "output_type": "stream",
     "text": []
    }
   ],
   "source": [
    "radius = input('What is the radius of the circle?')\n",
    "print(radius)"
   ],
   "metadata": {
    "collapsed": false,
    "ExecuteTime": {
     "end_time": "2023-11-23T02:38:14.672344900Z",
     "start_time": "2023-11-23T02:38:12.107407800Z"
    }
   },
   "id": "8c0b3000c02d32c"
  },
  {
   "cell_type": "code",
   "execution_count": 88,
   "outputs": [
    {
     "name": "stdout",
     "output_type": "stream",
     "text": [
      "The area of the circle is 28.274333882308138\n"
     ]
    }
   ],
   "source": [
    "area_of_circle = math.pi * radius**2\n",
    "print('The area of the circle is', area_of_circle)"
   ],
   "metadata": {
    "collapsed": false,
    "ExecuteTime": {
     "end_time": "2023-11-23T02:38:07.854225700Z",
     "start_time": "2023-11-23T02:38:07.840347900Z"
    }
   },
   "id": "6bd25f7146d6ab72"
  },
  {
   "cell_type": "code",
   "execution_count": null,
   "outputs": [],
   "source": [],
   "metadata": {
    "collapsed": false
   },
   "id": "af8ba9988f01e05e"
  }
 ],
 "metadata": {
  "kernelspec": {
   "display_name": "Python 3",
   "language": "python",
   "name": "python3"
  },
  "language_info": {
   "codemirror_mode": {
    "name": "ipython",
    "version": 2
   },
   "file_extension": ".py",
   "mimetype": "text/x-python",
   "name": "python",
   "nbconvert_exporter": "python",
   "pygments_lexer": "ipython2",
   "version": "2.7.6"
  }
 },
 "nbformat": 4,
 "nbformat_minor": 5
}
